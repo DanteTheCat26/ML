{
 "cells": [
  {
   "cell_type": "markdown",
   "metadata": {},
   "source": [
    "# ДЗ №1 СУНЦ МГУ - Numpy practice"
   ]
  },
  {
   "cell_type": "markdown",
   "metadata": {},
   "source": [
    "_Задачи позаимствованы из курса ML ФКН ПМИ где они были позаимствованы из курса практикума кафедры ММП факультета ВМК МГУ_ "
   ]
  },
  {
   "cell_type": "markdown",
   "metadata": {},
   "source": [
    "### Туториальные задачи\n",
    "__(9 баллов)__\n",
    "\n",
    "Ниже приведены задачи на работу с numpy-массивами. Для каждой из задач нужно привести 2 реализации: одна без использования numpy (cчитайте, что там, где на входе или выходе должны быть numpy array, будут просто списки), а вторая полностью векторизованная (без использования питоновских циклов/map/list comprehension). Невекторизованная реализация каждой из задач оценивается в __0.5 балла__, векторизованная – в __1 балл__.\n",
    "\n",
    "Реализации без использования векторизации нужно записать в файл functions.py, а векторизованные &mdash; в файл functions_vectorized.py\n",
    "\n",
    "Для каждой задачи, приведённой ниже сравните скорость работы невекторизованной и векторизованной реализации. С помощью пакета matplotlib постройте графики времени работы в зависимости от размера данных. __Графики должны выглядеть опрятно!__ То есть должны быть подписаны оси, названия графиков, и т.д. Например, ниже представлены хороший и плохой графики:"
   ]
  },
  {
   "cell_type": "code",
   "execution_count": 2,
   "metadata": {},
   "outputs": [
    {
     "name": "stderr",
     "output_type": "stream",
     "text": [
      "/tmp/ipykernel_2141/3107362156.py:26: UserWarning: FigureCanvasAgg is non-interactive, and thus cannot be shown\n",
      "  f.show()\n"
     ]
    }
   ],
   "source": [
    "import matplotlib.pyplot as plt\n",
    "import numpy as np\n",
    "\n",
    "%matplotlib inline\n",
    "\n",
    "data_size = np.array([10, 30, 70, 120])\n",
    "time_non_vectorized = data_size ** 2 + 10\n",
    "time_vectorized = data_size ** 1.5\n",
    "\n",
    "f, (ax1, ax2) = plt.subplots(1, 2, figsize=(13, 5))\n",
    "\n",
    "ax1.plot(data_size, time_non_vectorized)\n",
    "ax1.plot(data_size, time_vectorized)\n",
    "ax1.set_title(u\"Плохой график\")\n",
    "ax1.set_xlabel(u\"Размер данных\")\n",
    "ax1.set_ylabel(u\"Время\")\n",
    "\n",
    "ax2.plot(data_size, time_non_vectorized, label=u\"Невекторизованная\")\n",
    "ax2.plot(data_size, time_vectorized, label=u\"Векторизованная\")\n",
    "ax2.set_title(u\"Хороший график\")\n",
    "ax2.set_xlabel(u\"Длина массива\")\n",
    "ax2.set_ylabel(u\"Время (с)\")\n",
    "ax2.grid()\n",
    "ax2.legend()\n",
    "\n",
    "f.show()              "
   ]
  },
  {
   "cell_type": "code",
   "execution_count": 6,
   "metadata": {},
   "outputs": [
    {
     "ename": "SyntaxError",
     "evalue": "invalid decimal literal (3278898047.py, line 1)",
     "output_type": "error",
     "traceback": [
      "\u001b[0;36m  Cell \u001b[0;32mIn[6], line 1\u001b[0;36m\u001b[0m\n\u001b[0;31m    * __Задача 1__: Подсчитать произведение ненулевых элементов на диагонали прямоугольной матрицы.\u001b[0m\n\u001b[0m                ^\u001b[0m\n\u001b[0;31mSyntaxError\u001b[0m\u001b[0;31m:\u001b[0m invalid decimal literal\n"
     ]
    }
   ],
   "source": [
    "* __Задача 1__: Подсчитать произведение ненулевых элементов на диагонали прямоугольной матрицы.  \n",
    " Например, для X = np.array([[1, 0, 1], [2, 0, 2], [3, 0, 3], [4, 4, 4]]) ответ – 3."
   ]
  },
  {
   "cell_type": "code",
   "execution_count": null,
   "metadata": {},
   "outputs": [],
   "source": [
    "import numpy as np\n",
    "import time\n",
    "import matplotlib.pyplot as plt\n",
    "\n",
    "\n",
    "\n",
    "def solve1(x):\n",
    "  diag_x = np.diag(x)\n",
    "  non_zero_diag = diag_x[diag_x != 0]\n",
    "  ans1 = np.prod(non_zero_diag)\n",
    "  return ans1\n",
    "def solve2(x):\n",
    "  ans2 = 1\n",
    "  k = min(len(x), len(x[0]))\n",
    "  for i in range(k):\n",
    "    if x[i][i] != 0:\n",
    "      ans2 *= x[i][i]\n",
    "  return ans2\n",
    "\n",
    "\n",
    "data_size = np.array([100, 1000, 2000, 6000, 10000])\n",
    "time_non_vectorized = [0] * len(data_size)\n",
    "time_vectorized = [0] * len(data_size)\n",
    "for i in range(len(data_size)):\n",
    "  x = np.random.randint(0, 10000, size=(data_size[i], data_size[i]))\n",
    "  start_time = time.time()\n",
    "  solve1(x)\n",
    "  end_time = time.time()\n",
    "  time_vectorized[i] = end_time - start_time\n",
    "  x = x.tolist()\n",
    "  start_time = time.time()\n",
    "  solve2(x)\n",
    "  end_time = time.time()\n",
    "  time_non_vectorized[i] = end_time - start_time\n",
    "\n",
    "plt.figure(figsize=(8, 6))\n",
    "plt.plot(data_size, time_non_vectorized, label=u\"Невекторизованная\", marker='o')\n",
    "plt.plot(data_size, time_vectorized, label=u\"Векторизованная\", marker='s')\n",
    "plt.title(u\"Сравнение времени выполнения\")\n",
    "plt.xlabel(u\"Размер матрицы\")\n",
    "plt.ylabel(u\"Время (с)\")\n",
    "plt.grid()\n",
    "plt.legend()\n",
    "\n",
    "plt.tight_layout()\n",
    "plt.show()"
   ]
  },
  {
   "cell_type": "markdown",
   "metadata": {},
   "source": [
    " \n",
    " \n",
    "* __Задача 2__: Даны два вектора x и y. Проверить, задают ли они одно и то же мультимножество.  \n",
    "  Например, для x = np.array([1, 2, 2, 4]), y = np.array([4, 2, 1, 2]) ответ – True.\n",
    "  \n",
    "  \n"
   ]
  },
  {
   "cell_type": "code",
   "execution_count": null,
   "metadata": {},
   "outputs": [],
   "source": [
    "import numpy as np\n",
    "import time\n",
    "import matplotlib.pyplot as plt\n",
    "\n",
    "\n",
    "\n",
    "def solve1(x, y):\n",
    "  xs = np.sort(x)\n",
    "  ys = np.sort(y)\n",
    "  ans1 = np.array_equal(xs, ys)\n",
    "  return ans1\n",
    "def solve2(x, y):\n",
    "  xs = sorted(x)\n",
    "  ys = sorted(y)\n",
    "  if len(x) != len(y):\n",
    "    return False\n",
    "  for i in range(len(x)):\n",
    "    if xs[i] != ys[i]:\n",
    "      return False\n",
    "  return True\n",
    "\n",
    "\n",
    "data_size = np.array([100, 1000, 5000, 10000, 50000, 100000, 1000000])\n",
    "time_non_vectorized = [0] * len(data_size)\n",
    "time_vectorized = [0] * len(data_size)\n",
    "for i in range(len(data_size)):\n",
    "  x = np.random.randint(0, 10000, size=(data_size[i]))\n",
    "  y = np.random.randint(0, 10000, size=(data_size[i]))\n",
    "  start_time = time.time()\n",
    "  solve1(x, y)\n",
    "  end_time = time.time()\n",
    "  time_vectorized[i] = end_time - start_time\n",
    "  x = x.tolist()\n",
    "  y = y.tolist()\n",
    "  start_time = time.time()\n",
    "  solve2(x, y)\n",
    "  end_time = time.time()\n",
    "  time_non_vectorized[i] = end_time - start_time\n",
    "\n",
    "plt.figure(figsize=(8, 6))\n",
    "plt.plot(data_size, time_non_vectorized, label=u\"Невекторизованная\", marker='o')\n",
    "plt.plot(data_size, time_vectorized, label=u\"Векторизованная\", marker='s')\n",
    "plt.title(u\"Сравнение времени выполнения\")\n",
    "plt.xlabel(u\"Размер матрицы\")\n",
    "plt.ylabel(u\"Время (с)\")\n",
    "\n",
    "plt.ticklabel_format(style='plain', axis='y')\n",
    "plt.ticklabel_format(style='plain', axis='x')\n",
    "\n",
    "plt.xscale('log')\n",
    "plt.yscale('log')\n",
    "plt.grid()\n",
    "\n",
    "plt.legend()\n",
    "plt.tight_layout()\n",
    "plt.show()"
   ]
  },
  {
   "cell_type": "markdown",
   "metadata": {},
   "source": [
    "* __Задача 3__: Найти максимальный элемент в векторе x среди элементов, перед которыми стоит нулевой.  \n",
    " Например, для x = np.array([6, 2, 0, 3, 0, 0, 5, 7, 0]) ответ – 5."
   ]
  },
  {
   "cell_type": "code",
   "execution_count": null,
   "metadata": {},
   "outputs": [],
   "source": [
    "import numpy as np\n",
    "import time\n",
    "import matplotlib.pyplot as plt\n",
    "\n",
    "\n",
    "\n",
    "def solve1(x):\n",
    "  mask_zero = x[:-1] == 0\n",
    "  after_zero = x[1:][mask_zero]\n",
    "  if len(after_zero) == 0:\n",
    "    return [-1, -1]\n",
    "  else:\n",
    "    return np.max(after_zero)\n",
    "def solve2(x):\n",
    "  cond = False\n",
    "  mx = -1\n",
    "  for i in range(1, len(x)):\n",
    "    if x[i - 1] == 0:\n",
    "      if not(cond) or x[i] > mx:\n",
    "        mx = x[i]\n",
    "        cond = True\n",
    "  if not(cond):\n",
    "    return [-1, -1]\n",
    "  else:\n",
    "    return mx\n",
    "\n",
    "data_size = np.array([100, 1000, 5000, 10000, 50000, 100000, 1000000])\n",
    "time_non_vectorized = [0] * len(data_size)\n",
    "time_vectorized = [0] * len(data_size)\n",
    "for i in range(len(data_size)):\n",
    "  x = np.random.randint(0, 10000, size=(data_size[i]))\n",
    "  start_time = time.time()\n",
    "  ans = solve1(x) # one number - answer or list [-1, -1] if no answer\n",
    "  end_time = time.time()\n",
    "  time_vectorized[i] = end_time - start_time\n",
    "  x = x.tolist() \n",
    "  start_time = time.time()\n",
    "  ans = solve2(x) # one number - answer or list [-1, -1] if no answer\n",
    "  end_time = time.time()\n",
    "  time_non_vectorized[i] = end_time - start_time\n",
    "\n",
    "plt.figure(figsize=(8, 6))\n",
    "plt.plot(data_size, time_non_vectorized, label=u\"Невекторизованная\", marker='o')\n",
    "plt.plot(data_size, time_vectorized, label=u\"Векторизованная\", marker='s')\n",
    "plt.title(u\"Сравнение времени выполнения\")\n",
    "plt.xlabel(u\"Размер матрицы\")\n",
    "plt.ylabel(u\"Время (с)\")\n",
    "\n",
    "plt.ticklabel_format(style='plain', axis='y')\n",
    "plt.ticklabel_format(style='plain', axis='x')\n",
    "\n",
    "plt.xscale('log')\n",
    "plt.yscale('log')\n",
    "plt.grid()\n",
    "\n",
    "plt.legend()\n",
    "plt.tight_layout()\n",
    "plt.show()"
   ]
  },
  {
   "cell_type": "markdown",
   "metadata": {},
   "source": [
    " \n",
    " \n",
    "* __ Задача 4__: Дан трёхмерный массив, содержащий изображение, размера (height, width, numChannels), а также вектор длины numChannels. Сложить каналы изображения с указанными весами, и вернуть результат в виде матрицы размера (height, width). В ноутбуке приведите пример работы функции – преобразуйте цветное изображение в оттенки серого, использовав коэффициенты np.array([0.299, 0.587, 0.114]). Считать реальное изображение можно при помощи функции scipy.misc.imread (если изображение не в формате png, установите пакет pillow).\n"
   ]
  },
  {
   "cell_type": "code",
   "execution_count": null,
   "metadata": {},
   "outputs": [],
   "source": [
    "# code here"
   ]
  },
  {
   "cell_type": "markdown",
   "metadata": {},
   "source": [
    "* __Задача 5__: Реализовать кодирование длин серий (Run-length encoding). Для некоторого вектора x необходимо вернуть кортеж из двух векторов одинаковой длины. Первый содержит числа, а второй - сколько раз их нужно повторить.  \n",
    " Например, для x = np.array([2, 2, 2, 3, 3, 3, 5]) ответ – (np.array([2, 3, 5]), np.array([3, 3, 1]))."
   ]
  },
  {
   "cell_type": "code",
   "execution_count": null,
   "metadata": {},
   "outputs": [],
   "source": [
    "import numpy as np\n",
    "import time\n",
    "import matplotlib.pyplot as plt\n",
    "\n",
    "\n",
    "\n",
    "def solve1(x):\n",
    "  if len(x) == 0:\n",
    "    return [np.array([]), np.array([])]\n",
    "    \n",
    "  # Находим, где элементы отличаются от предыдущих\n",
    "  diff = np.r_[True, x[:-1] != x[1:]]\n",
    "    \n",
    "  # Уникальные значения (первые элементы серий)\n",
    "  values = x[diff]\n",
    "    \n",
    "  # Индексы, где начинаются новые серии\n",
    "  indices = np.where(diff)[0]\n",
    "    \n",
    "  # Добавляем длину массива в конец для расчета длин\n",
    "  indices = np.append(indices, len(x))\n",
    "    \n",
    "  # Длины серий (разница между индексами)\n",
    "  lengths = np.diff(indices)\n",
    "    \n",
    "  return [values, lengths]\n",
    "def solve2(x):\n",
    "  if len(x) == 0:\n",
    "    return [0, 0]\n",
    "  ans1 = []\n",
    "  ans2 = []\n",
    "  for i in range(len(x)):\n",
    "    if len(ans1) == 0 or ans1[-1] != x[i]:\n",
    "      ans1.append(x[i])\n",
    "      ans2.append(1)\n",
    "    else:\n",
    "      ans2[-1] += 1\n",
    "  return [ans1, ans2]\n",
    "\n",
    "data_size = np.array([100, 1000, 5000, 10000, 50000, 100000, 1000000])\n",
    "time_non_vectorized = [0] * len(data_size)\n",
    "time_vectorized = [0] * len(data_size)\n",
    "for i in range(len(data_size)):\n",
    "  x = np.random.randint(0, 10000, size=(data_size[i]))\n",
    "  start_time = time.time()\n",
    "  ans = solve1(x) # one number - answer or list [-1, -1] if no answer\n",
    "  end_time = time.time()\n",
    "  time_vectorized[i] = end_time - start_time\n",
    "  x = x.tolist() \n",
    "  start_time = time.time()\n",
    "  ans = solve2(x) # one number - answer or list [-1, -1] if no answer\n",
    "  end_time = time.time()\n",
    "  time_non_vectorized[i] = end_time - start_time\n",
    "\n",
    "plt.figure(figsize=(8, 6))\n",
    "plt.plot(data_size, time_non_vectorized, label=u\"Невекторизованная\", marker='o')\n",
    "plt.plot(data_size, time_vectorized, label=u\"Векторизованная\", marker='s')\n",
    "plt.title(u\"Сравнение времени выполнения\")\n",
    "plt.xlabel(u\"Размер матрицы\")\n",
    "plt.ylabel(u\"Время (с)\")\n",
    "\n",
    "plt.ticklabel_format(style='plain', axis='y')\n",
    "plt.ticklabel_format(style='plain', axis='x')\n",
    "\n",
    "plt.xscale('log')\n",
    "plt.yscale('log')\n",
    "plt.grid()\n",
    "\n",
    "plt.legend()\n",
    "plt.tight_layout()\n",
    "plt.show()"
   ]
  },
  {
   "cell_type": "markdown",
   "metadata": {},
   "source": [
    " \n",
    " \n",
    "* __Задача 6__: Даны две выборки объектов - X и Y. Вычислить матрицу евклидовых расстояний между объектами. Дополнительно сравните с функцией scipy.spatial.distance.cdist по скорости работы (сравнения приведите ниже в ноутбуке)."
   ]
  },
  {
   "cell_type": "code",
   "execution_count": null,
   "metadata": {},
   "outputs": [],
   "source": [
    "# code here"
   ]
  },
  {
   "cell_type": "markdown",
   "metadata": {},
   "source": [
    "### Туториал по Markdown\n",
    "\n",
    "__(1 балл)__\n",
    "\n",
    "Напишите краткий (а в данной домашке ещё и почти бесмысленный) отчёт с использованием 4-5 различных вариантов разметки/выделения текста."
   ]
  },
  {
   "cell_type": "markdown",
   "metadata": {},
   "source": [
    "# Сравнение времени выполнения программ, написанные с использованием библиотеки *numpy* и внутренних функций и написанные без них.\n",
    "\n",
    "\n",
    "\n",
    "---\n",
    "\n",
    "\n",
    "\n",
    "В этом домашнем задании я решал задачи с помощью *языка программирования Python*. я решал двумя способами: с помощью библиотеки *numpy* и без неё. Также я сравнивал время выполнения программ двух решений и выяснил, что с помощью библиотеки *numpy* и встроенных функций задания решаются **быстрей**, чем просто с циклами.\n",
    "\n",
    "---\n",
    "\n",
    "\n",
    "если ознакомиться с графиками, то видно, что в каждом задании решение с использованием *numpy* на больших массивах обгоняет обычное решение."
   ]
  }
 ],
 "metadata": {
  "kernelspec": {
   "display_name": "Python [conda env:base] *",
   "language": "python",
   "name": "conda-base-py"
  },
  "language_info": {
   "codemirror_mode": {
    "name": "ipython",
    "version": 3
   },
   "file_extension": ".py",
   "mimetype": "text/x-python",
   "name": "python",
   "nbconvert_exporter": "python",
   "pygments_lexer": "ipython3",
   "version": "3.13.5"
  }
 },
 "nbformat": 4,
 "nbformat_minor": 4
}
